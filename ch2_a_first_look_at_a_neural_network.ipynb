{
  "cells": [
    {
      "cell_type": "code",
      "execution_count": 2,
      "metadata": {
        "id": "wZq3bEz7paMS",
        "outputId": "31386a29-585b-47b4-92f2-b57783a59087",
        "colab": {
          "base_uri": "https://localhost:8080/",
          "height": 36
        }
      },
      "outputs": [
        {
          "output_type": "execute_result",
          "data": {
            "application/vnd.google.colaboratory.intrinsic+json": {
              "type": "string"
            },
            "text/plain": [
              "'2.7.0'"
            ]
          },
          "metadata": {},
          "execution_count": 2
        }
      ],
      "source": [
        "import keras\n",
        "keras.__version__"
      ]
    },
    {
      "cell_type": "markdown",
      "metadata": {
        "id": "YnaVoetjpaMX"
      },
      "source": [
        "# 신경망과의 첫 만남"
      ]
    },
    {
      "cell_type": "code",
      "execution_count": 1,
      "metadata": {
        "id": "GwFxT1y0paMd",
        "colab": {
          "base_uri": "https://localhost:8080/"
        },
        "outputId": "0a174a3a-3c64-4111-ed58-ea5e487bddfc"
      },
      "outputs": [
        {
          "output_type": "stream",
          "name": "stdout",
          "text": [
            "Downloading data from https://storage.googleapis.com/tensorflow/tf-keras-datasets/mnist.npz\n",
            "11493376/11490434 [==============================] - 0s 0us/step\n",
            "11501568/11490434 [==============================] - 0s 0us/step\n"
          ]
        }
      ],
      "source": [
        "# MNIST 데이터 사용\n",
        "from keras.datasets import mnist\n",
        "\n",
        "(train_images, train_labels), (test_images, test_labels) = mnist.load_data()"
      ]
    },
    {
      "cell_type": "code",
      "execution_count": 3,
      "metadata": {
        "id": "T_KHXPQbpaMf",
        "outputId": "e378d68e-02a9-4a06-8c78-85113b9b6aeb",
        "colab": {
          "base_uri": "https://localhost:8080/"
        }
      },
      "outputs": [
        {
          "output_type": "execute_result",
          "data": {
            "text/plain": [
              "(60000, 28, 28)"
            ]
          },
          "metadata": {},
          "execution_count": 3
        }
      ],
      "source": [
        "train_images.shape"
      ]
    },
    {
      "cell_type": "code",
      "execution_count": 4,
      "metadata": {
        "id": "RTr0NDA6paMg",
        "outputId": "32546e0e-9cd5-46c1-82e3-9a86fcd119b3",
        "colab": {
          "base_uri": "https://localhost:8080/"
        }
      },
      "outputs": [
        {
          "output_type": "execute_result",
          "data": {
            "text/plain": [
              "60000"
            ]
          },
          "metadata": {},
          "execution_count": 4
        }
      ],
      "source": [
        "len(train_labels)"
      ]
    },
    {
      "cell_type": "code",
      "execution_count": 5,
      "metadata": {
        "id": "8AxFYuLbpaMi",
        "outputId": "fbf80265-3745-488d-db2b-d0c69e4e7cb3",
        "colab": {
          "base_uri": "https://localhost:8080/"
        }
      },
      "outputs": [
        {
          "output_type": "execute_result",
          "data": {
            "text/plain": [
              "array([5, 0, 4, ..., 5, 6, 8], dtype=uint8)"
            ]
          },
          "metadata": {},
          "execution_count": 5
        }
      ],
      "source": [
        "train_labels"
      ]
    },
    {
      "cell_type": "code",
      "execution_count": 6,
      "metadata": {
        "id": "o5gqsSi0paMk",
        "outputId": "3705ac68-bd39-4fc7-f992-96e7724cefba",
        "colab": {
          "base_uri": "https://localhost:8080/"
        }
      },
      "outputs": [
        {
          "output_type": "execute_result",
          "data": {
            "text/plain": [
              "(10000, 28, 28)"
            ]
          },
          "metadata": {},
          "execution_count": 6
        }
      ],
      "source": [
        "test_images.shape"
      ]
    },
    {
      "cell_type": "code",
      "execution_count": 7,
      "metadata": {
        "id": "2hPgLJ5cpaMl",
        "outputId": "76eb22ae-ba57-420f-8ea5-895123d4cbdc",
        "colab": {
          "base_uri": "https://localhost:8080/"
        }
      },
      "outputs": [
        {
          "output_type": "execute_result",
          "data": {
            "text/plain": [
              "10000"
            ]
          },
          "metadata": {},
          "execution_count": 7
        }
      ],
      "source": [
        "len(test_labels)"
      ]
    },
    {
      "cell_type": "code",
      "execution_count": 8,
      "metadata": {
        "id": "dEMuLkr6paMm",
        "outputId": "a4bb82fe-2e0e-4325-abfe-bd4f46046890",
        "colab": {
          "base_uri": "https://localhost:8080/"
        }
      },
      "outputs": [
        {
          "output_type": "execute_result",
          "data": {
            "text/plain": [
              "array([7, 2, 1, ..., 4, 5, 6], dtype=uint8)"
            ]
          },
          "metadata": {},
          "execution_count": 8
        }
      ],
      "source": [
        "test_labels"
      ]
    },
    {
      "cell_type": "markdown",
      "metadata": {
        "id": "CHn_62XwpaMp"
      },
      "source": [
        "1. 훈련 데이터 `train_images`와 `train_labels`를 네트워크에 주입.\n",
        "2. 네트워크는 이미지와 레이블을 연관시킬 수 있도록 학습.\n",
        "3. `test_images`에 대한 예측을 네트워크에게 요청.\n",
        "4. 예측이 `test_labels`와 맞는지 확인."
      ]
    },
    {
      "cell_type": "code",
      "execution_count": 11,
      "metadata": {
        "id": "tQqq6ZntpaMq"
      },
      "outputs": [],
      "source": [
        "from keras import models\n",
        "from keras import layers\n",
        "\n",
        "network = models.Sequential()\n",
        "\n",
        "# 완전 연결된 신경망 층 Dense 층 2개가 연속\n",
        "network.add(layers.Dense(512, activation='relu', input_shape=(28 * 28,)))\n",
        "network.add(layers.Dense(10, activation='softmax'))"
      ]
    },
    {
      "cell_type": "markdown",
      "source": [
        "컴파일 단계에 포함될 세 가지\n",
        "\n",
        "1. 손실 함수: 훈련 데이터에서 신경망 성능 측정\n",
        "2. 옵티마이저: 데이터, 손실 함수 기반으로 네트워크 업데이트 매커니즘\n",
        "3. 훈련과 테스트 과정을 모니터링할 지표: 정확도"
      ],
      "metadata": {
        "id": "H7YPk1aCrYrR"
      }
    },
    {
      "cell_type": "code",
      "execution_count": 12,
      "metadata": {
        "id": "kUqoGgtipaMs"
      },
      "outputs": [],
      "source": [
        "network.compile(optimizer='rmsprop',\n",
        "                loss='categorical_crossentropy',\n",
        "                metrics=['accuracy'])\n",
        "\n",
        "# 'categorical_crossentropy'는 손실 함수로 미니 배치 확률적 경사 하강법을 통해 손실이 감소됨\n",
        "# 'rmsprop' 옵티마이저에 의해 경사 하강법의 구체적인 방식이 결정"
      ]
    },
    {
      "cell_type": "code",
      "execution_count": 13,
      "metadata": {
        "id": "JsaHketspaMt"
      },
      "outputs": [],
      "source": [
        "# 훈련 이미지에 맞는 크기로 조정\n",
        "train_images = train_images.reshape((60000, 28 * 28))\n",
        "train_images = train_images.astype('float32') / 255\n",
        "\n",
        "test_images = test_images.reshape((10000, 28 * 28))\n",
        "test_images = test_images.astype('float32') / 255"
      ]
    },
    {
      "cell_type": "code",
      "source": [
        "from keras.layers.normalization import layer_normalization"
      ],
      "metadata": {
        "id": "cuIe_uUSuTrA"
      },
      "execution_count": 15,
      "outputs": []
    },
    {
      "cell_type": "code",
      "execution_count": 17,
      "metadata": {
        "id": "P5DsVonypaMv"
      },
      "outputs": [],
      "source": [
        "# 레이블을 범주형으로 인코딩\n",
        "from tensorflow.keras.utils import to_categorical\n",
        "\n",
        "train_labels = to_categorical(train_labels)\n",
        "test_labels = to_categorical(test_labels)"
      ]
    },
    {
      "cell_type": "code",
      "execution_count": 21,
      "metadata": {
        "id": "IGygYHERpaMw",
        "outputId": "3d28c6ca-b43c-4d9e-857e-dd5f91fa2ebc",
        "colab": {
          "base_uri": "https://localhost:8080/"
        }
      },
      "outputs": [
        {
          "output_type": "stream",
          "name": "stdout",
          "text": [
            "Epoch 1/5\n",
            "469/469 [==============================] - 6s 11ms/step - loss: 0.2615 - accuracy: 0.9253\n",
            "Epoch 2/5\n",
            "469/469 [==============================] - 5s 11ms/step - loss: 0.1063 - accuracy: 0.9688\n",
            "Epoch 3/5\n",
            "469/469 [==============================] - 5s 11ms/step - loss: 0.0713 - accuracy: 0.9784\n",
            "Epoch 4/5\n",
            "469/469 [==============================] - 5s 11ms/step - loss: 0.0509 - accuracy: 0.9851\n",
            "Epoch 5/5\n",
            "469/469 [==============================] - 5s 11ms/step - loss: 0.0387 - accuracy: 0.9890\n"
          ]
        },
        {
          "output_type": "execute_result",
          "data": {
            "text/plain": [
              "<keras.callbacks.History at 0x7f8c117267d0>"
            ]
          },
          "metadata": {},
          "execution_count": 21
        }
      ],
      "source": [
        "# 훈련 데이터에 모델 학습\n",
        "# 훈련 데이터의 네트워크 손실과 정확도 출력됨(정확도 98.9% 금방 달성)\n",
        "network.fit(train_images, train_labels, epochs=5, batch_size=128)"
      ]
    },
    {
      "cell_type": "code",
      "execution_count": 22,
      "metadata": {
        "id": "b6cmU2oYpaMx",
        "outputId": "a73f2003-f498-4110-f35b-6abac377b2d2",
        "colab": {
          "base_uri": "https://localhost:8080/"
        }
      },
      "outputs": [
        {
          "output_type": "stream",
          "name": "stdout",
          "text": [
            "313/313 [==============================] - 1s 3ms/step - loss: 0.0716 - accuracy: 0.9776\n"
          ]
        }
      ],
      "source": [
        "# 테스트 세트 - 정확도 97.8%\n",
        "test_loss, test_acc = network.evaluate(test_images, test_labels)"
      ]
    },
    {
      "cell_type": "code",
      "execution_count": 23,
      "metadata": {
        "id": "o_ddLV_ipaMy",
        "outputId": "55abb819-b91a-4446-955a-2e293bdb4107",
        "colab": {
          "base_uri": "https://localhost:8080/"
        }
      },
      "outputs": [
        {
          "output_type": "stream",
          "name": "stdout",
          "text": [
            "test_acc: 0.9775999784469604\n"
          ]
        }
      ],
      "source": [
        "print('test_acc:', test_acc)"
      ]
    },
    {
      "cell_type": "markdown",
      "source": [
        "훈련 데이터보다 테스트 데이터에서의 정확도가 낮으므로 과대적합."
      ],
      "metadata": {
        "id": "lo-I37vzvKq8"
      }
    },
    {
      "cell_type": "markdown",
      "source": [
        "# 신경망을 위한 데이터 표현\n",
        "----\n",
        "텐서는 (대부분)수치형 데이터를 다루므로 숫자를 위한 컨테이너."
      ],
      "metadata": {
        "id": "Cj6a6xU5vX4U"
      }
    },
    {
      "cell_type": "code",
      "execution_count": 10,
      "metadata": {
        "id": "zHPQI9wtpaMp",
        "outputId": "80d30fb2-72b3-4b9c-ed80-a3f76f08f12d",
        "colab": {
          "base_uri": "https://localhost:8080/",
          "height": 265
        }
      },
      "outputs": [
        {
          "output_type": "display_data",
          "data": {
            "image/png": "[encoded data removed]",
            "text/plain": [
              "<Figure size 432x288 with 1 Axes>"
            ]
          },
          "metadata": {
            "needs_background": "light"
          }
        }
      ],
      "source": [
        "import matplotlib.pyplot as plt\n",
        "\n",
        "# 다섯번째 샘플 확인\n",
        "digit = train_images[4]\n",
        "\n",
        "plt.imshow(digit, cmap=plt.cm.binary)\n",
        "plt.show()"
      ]
    },
    {
      "cell_type": "code",
      "source": [
        "# 배치 데이터\n",
        "# ex) 크기 128인 배치\n",
        "batch = train_images[:128]\n",
        "\n",
        "# 첫 번째 축 => 배치 축(배치 차원)"
      ],
      "metadata": {
        "id": "y0P0ISZqxklN"
      },
      "execution_count": 29,
      "outputs": []
    },
    {
      "cell_type": "markdown",
      "source": [
        ""
      ],
      "metadata": {
        "id": "6ZlU8SVTx6FY"
      }
    },
    {
      "cell_type": "markdown",
      "source": [
        "#### 텐서의 실제 사례\n",
        "\n",
        "* 벡터 데이터: (samples, features) 크기의 2D 텐서\n",
        "* 시계열 데이터, 시퀀스 데이터: (samples, timesteps, features) 크기의 3D 텐서\n",
        "* 이미지 데이터: (samples, height, width, channels) or (samples, channels, height, width) 크기의 4D 텐서\n",
        "* 비디오 데이터: (samples, frames, height, width, channels) or (samples, frames, channels, height, width) 크기의 5D 텐서"
      ],
      "metadata": {
        "id": "SFOCvd8Lx683"
      }
    },
    {
      "cell_type": "markdown",
      "source": [
        "# 신경망의 톱니바퀴: 텐서 연산\n",
        "----\n",
        "컴퓨터 프로그램을 이진수의 입력을 처리하는 몇 개의 이항 연산으로 표현할 수 있는 것처럼, 심층 신경망이 학습한 모든 변환을 수치 데이터 텐서에 적용하는 몇 종류의 텐서 연산으로 나타낼 수 있음. ex) 텐서 덧셈, 텐서 곱셈\n",
        "\n",
        "keras.layers.Dense(512, activation='relu')\n",
        "\n",
        "이 층은 2D 텐서를 입력으로 받고 또 다른 2D 텐서를 반환하는 함수로 해석할 수 있음.\n",
        "\n",
        "output = relu(dot(W, input) + b) \n",
        "* W는 2D 텐서, b는 벡터 (둘 모두 층의 속성)\n",
        "\n",
        "위의 식에서는 3개의 텐서 연산 존재. 입력 텐서와 텐서 W 사이의 점곱(dot), 그것의 결과인 2D 텐서와 벡터 b 사이의 덧셈(+), relu(렐루) 연산 (relu(x)는 max(x, 0))"
      ],
      "metadata": {
        "id": "BCOcZ61jyhXG"
      }
    },
    {
      "cell_type": "code",
      "source": [
        "def naive_relu(x):\n",
        "  assert len(x.shape) == 2          # x는 2D 넘파이 배열\n",
        "\n",
        "  x = x.copy()                      # 입력 텐서 자체를 바꾸지 않도록 복사\n",
        "  for i in range(x.shape[0]):\n",
        "    for j in range(x.shape[1]):\n",
        "      x[i, j] = max(x[i, j], 0)\n",
        "      \n",
        "  return x\n",
        "\n",
        "\n",
        "def naive_add(x, y):\n",
        "  assert len(x.shape) == 2          # x와 y는 2D 넘파이 배열\n",
        "  assert x.shape == y.shape\n",
        "\n",
        "  x = x.copy()                      # 입력 텐서 자체를 바꾸지 않도록 복사\n",
        "  for i in range(x.shape[0]):\n",
        "    for j in range(x.shape[1]):\n",
        "      x[i, j] += y[i, j]\n",
        "      \n",
        "  return x"
      ],
      "metadata": {
        "id": "onKJwxuFUUxq"
      },
      "execution_count": 1,
      "outputs": []
    },
    {
      "cell_type": "markdown",
      "source": [
        "* 넘파이 배열을 다룰 때는 최적화된 넘파이 내장 함수로 연산들 처리\n",
        "* 넘파이는 시스템에 설치된 BLAS 구현에 복잡한 일들을 위임\n",
        "* BLAS는 고도로 병렬화되고 효율적인 저수준의 텐서 조작 루틴(포트란, C 언어로 구현)"
      ],
      "metadata": {
        "id": "_HYYm9ySWRqA"
      }
    },
    {
      "cell_type": "code",
      "source": [
        "import numpy as np\n",
        "\n",
        "x = 2\n",
        "y = 3\n",
        "\n",
        "z = x + y               # 원소별 덧셈\n",
        "z = np.maximum(z, 0.)   # 원소별 렐루 함수"
      ],
      "metadata": {
        "id": "trJRLOHn0Jvv"
      },
      "execution_count": 19,
      "outputs": []
    },
    {
      "cell_type": "markdown",
      "source": [
        "### 브로드캐스팅\n",
        "Dense 층에서 2D 텐서와 벡터를 더한 것처럼 크기가 다른 두 텐서가 더해질 때 모호하지 않고 실행 가능하다면 작은 텐서가 큰 텐서의 크기에 맞추어 **브로드캐스팅** 된다.\n",
        "\n",
        "브로드캐스팅의 두 단계\n",
        "\n",
        "1. 큰 텐서의 ndim에 맞도록 작은 텐서에 브로드캐스팅 축이 추가됨.\n",
        "2. 작은 텐서가 새 축을 따라서 큰 텐서의 크기에 맞도록 반복됨. "
      ],
      "metadata": {
        "id": "6blok3e1Y4pn"
      }
    },
    {
      "cell_type": "code",
      "source": [
        "def naive_add_matrix_and_vector(x, y):\n",
        "  assert len(x.shape) == 2          # x는 2D 넘파이 배열\n",
        "  assert len(y.shape) == 2          # y는 넘파이 벡터\n",
        "  assert x.shape[1] == y.shape[0]\n",
        "\n",
        "  x = x.copy()                      # 입력 텐서 자체를 바꾸지 않도록 복사\n",
        "  for i in range(x.shape[0]):\n",
        "    for j in range(x.shape[1]):\n",
        "      x[i, j] += y[j]\n",
        "      \n",
        "  return x\n",
        "\n",
        "\n",
        "# 크기가 다른 두 텐서에 브로드캐스팅으로 원소별 maximum 연산을 적용\n",
        "x = np.random.random((64, 3, 32, 10))   # x는 (64, 3, 32, 10) 크기의 랜덤 텐서\n",
        "y = np.random.random((32, 10))          # y는 (32, 10) 크기의 랜덤 텐서\n",
        "\n",
        "z = np.maximum(x, y)     # 출력 z의 크기는 (64, 3, 32, 10)로 x와 동일"
      ],
      "metadata": {
        "id": "sbLvDZzKY0Od"
      },
      "execution_count": 20,
      "outputs": []
    },
    {
      "cell_type": "markdown",
      "source": [
        "### 텐서 점곱\n",
        "텐서 곱셈이라고도 불리며 원소별 연산과 반대로 입력 텐서의 원소들을 결합시킴.\n",
        "넘파이와 켈스는 점곱 연산에 보편적인 dot 연산자 사용.\n",
        "\n",
        "* 두 벡터의 점곱은 스칼라가 되어 원소 개수가 같은 벡터끼리 점곱이 가능\n",
        "* 행렬과 벡터 사이에서도 점곱이 가능\n",
        "* 두 텐서 중 하나라도 ndim이 1보다 크면 dot 연산에 교환 법칙이 성립되지 않음(dot(x, y)와 dot(y, x)가 같지 않음)\n",
        "\n",
        "### 텐서 크기 변환\n",
        "특정 크기에 맞게 열과 행을 재배열하는 것이며, 크기가 변환된 텐서는 원래 텐서와 원소 개수가 동일함. 자주 사용하는 특별한 크기 변환은 전치임.\n",
        "\n",
        "### 텐서 연산의 기하학적 해석\n",
        "텐서가 조작하는 텐서의 내용은 어떤 기하학적 공간에 있는 좌표 포인트로 해석될 수 있기 때문에 모든 텐서 연산은 기하학적 해석이 가능함. \n",
        "\n",
        "예를 들어 벡터의 덧셈에서 기하학적으로는 벡터 화살표를 연결하여 계산할 수 있으며, 그 최종 위치는 두 벡터의 덧셈을 나타내는 벡터가 됨.\n",
        "\n",
        "일반적으로 아핀 변환, 회전, 스케일링 등 기본적인 기하학적 연산은 텐서 연산으로 표현될 수 있음.\n",
        "\n",
        "### 딥러닝의 기하학적 해석\n",
        "단순한 단계들이 길게 이어져 구현된 신경망을 고차원 공간에서 매우 복잡한 기하학적 변환을 하는 것으로 해석할 수 있음.\n",
        "\n",
        "심층 네트워크의 각 층은 데이터를 조금씩 풀어 주는 변환을 적용하므로, 이런 층을 길게 쌓으면 아주 복잡한 분해 과정을 처리할 수 있음.\n"
      ],
      "metadata": {
        "id": "4VGmYSIWaHUu"
      }
    },
    {
      "cell_type": "markdown",
      "source": [
        "# 신경망의 엔진: 그래디언트 기반 최적화\n",
        "----\n",
        "output = relu(dot(W, input) + b)\n",
        "\n",
        "이 식에서 텐서 W와 b는 층의 속성으로 볼 수 있으며 가중치 또는 훈련되는 파라미터라고 부름(커널, 편향으로 부르기도 함). \n",
        "\n",
        "훈련 반복 루프\n",
        "\n",
        "1. 훈련 샘플 x와 타깃 y의 배치를 추출.\n",
        "2. x를 사용하여 네트워크 실행하고(정방향 패스 단계), 예측 y_pred를 구현.\n",
        "3. y_pred와 y의 차이를 측정하여 이 배치에 대한 네트워크의 손실을 계산.\n",
        "4. 손실이 조금 감소되도록 네트워크의 모든 가중치를 업데이트.\n",
        "\n",
        "위의 훈련 반복 루프의 결과로 결국 훈련 데이터에서 네트워크의 속실, 즉 예측 y_pred와 타깃 y의 오차가 매우 작아짐.\n",
        "\n",
        "특히, 4단계에서 개별적인 가중치 값이 있을 때 값이 증가해야 할지 감소해야 할지, 또 얼만큼 업데이트해야 할지 알아야 함. \n",
        "* 방법1. 네트워크 가중치 행렬의 원소를 모두 고정하고 관심 있는 하나만 다른 값을 적용. 하지만 이런 방식은 모든 가중치 행렬의 원소마다 두 번의 비용이 큰 정방향 패스를 계산해야 하므로 비효율적.\n",
        "* 방법2. 신경망에 사용된 모든 연산이 미분 가능하다는 장점을 사용하여 네트워크 가중치에 대한 손실의 그래디언트를 계산. 그래디언트의 반대 방향으로 가중치를 이동하면 손실이 감소.\n",
        "\n",
        "### 텐서 연산의 변화율: 그래디언트\n",
        "그래디언트는 텐서 연산의 변화율로 다차원 입력, 즉 텐서를 입력으로 받는 함수에 변화율 개념을 확장시킨 것.\n",
        "\n",
        "\n",
        "\n",
        "\n",
        "\n",
        "\n"
      ],
      "metadata": {
        "id": "dnomYAESpZBa"
      }
    },
    {
      "cell_type": "markdown",
      "source": [
        "### 확률적 경사 하강법\n",
        "신경망에서 가장 작은 손실 함수의 값을 만드는 가중치의 조합을 해석적으로 찾는 것을 의미함. 이때 실제 신경망에서는 파라미터의 개수가 수천 개보다 적은 경우가 거의 없고 종종 수천만 개가 되므로 해석적으로 해결하는 것이 어려움.\n",
        "\n",
        "따라서 앞서 설명한 알고리즘 네 단계를 사용.\n",
        "\n",
        "미니 배치 확률적 경사 하강법\n",
        "\n",
        "1. 훈련 샘플의 배치 x와 타깃 y를 추출.\n",
        "2. x로 네트워크 실행하고 예측 y_pred 구함.\n",
        "3. 이 배치에서 y_pred와 y 사이의 오차를 측정, 네트워크의 손실을 계산.\n",
        "4. 네트워크의 파라미터에 대한 손실 함수의 그래디언트를 계산(역방향 패스).\n",
        "5. 그래디언트의 반대 방향으로 파라미터를 조금 이동시킴.ex) W -> step * gradient처럼 하면 배치에 대한 손실이 조금 감소.\n",
        "\n",
        "스케일을 조정하기 위한 작은 값인 step의 값을 적절하게 고르는 것이 중요. \n",
        "* 너무 작으면 너무 많은 반복이 필요하고 지역 최솟값에 갇힐 수 있음.\n",
        "* 너무 크면 손실 함수 곡선에서 완전히 임의의 위치로 이동시킬 수 있음.\n",
        "\n",
        "미니 배치 SDG 알고리즘에서 반복마다 하나의 샘플과 하나의 타깃을 뽀는 것은 진정한 SDG이고, 극단적으로 반대인 가용한 모든 데이터를 사용하여 반복하는 것은 배치 SDG임. 이 두 가지 방법의 효율적인 절충안은 적절한 크기의 미니 배치를 사용하는 것.\n",
        "\n",
        "업데이트할 다음 가중치 계산에서 현재 그래디언트 뿐만 아니라 이전에 업데이트된 가중치를 여러 가지 다른 방식으로 고려하는 최적화 방법(또는 옵티마이저)에는 *모멘텀을 사용한 SDG, Adagrad, RMSProp 등이 있음. \n",
        "\n",
        "*모멘텀 개념은 SDG에 있는 2개의 문제점인 수렴 속도와 지역 최솟값을 해결.\n",
        "\n",
        "### 변화율 연결: 역전파 알고리즘\n",
        "연쇄 법칙을 신경망의 그래디언트 계산에 적용하여 역전파 알고리즘(후진 모드 자동 미분이라고도 불림)이 탄생. 역전파는 최종 손실 값에서 시작하여 손실 값에 각 파라미터가 기여한 정도를 계산하기 위해 연쇄 법칙을 적용하여 최상위 층에서 하위 층까지 거꾸로 진행됨.\n",
        "\n",
        "텐서플로처럼 기호 미분이 가능한 최신 프레임워크를 사용하여 신경망을 구현하여 역전파 알고리즘을 직접 구현할 필요가 전혀 없고 정확한 역전파 공식을 유도 하느라 시간과 노력을 소모하지 않을 수 있음.\n",
        "\n",
        "*그래디언트 기반의 최적화가 어떻게 작동하는지 잘 이해하는 것으로 충분."
      ],
      "metadata": {
        "id": "SoxygrJa0BK4"
      }
    }
  ],
  "metadata": {
    "kernelspec": {
      "display_name": "Python 3",
      "language": "python",
      "name": "python3"
    },
    "language_info": {
      "codemirror_mode": {
        "name": "ipython",
        "version": 3
      },
      "file_extension": ".py",
      "mimetype": "text/x-python",
      "name": "python",
      "nbconvert_exporter": "python",
      "pygments_lexer": "ipython3",
      "version": "3.6.6"
    },
    "colab": {
      "name": "ch2_a first look at a neural network",
      "provenance": [],
      "collapsed_sections": []
    }
  },
  "nbformat": 4,
  "nbformat_minor": 0
}